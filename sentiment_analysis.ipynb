{
  "nbformat": 4,
  "nbformat_minor": 0,
  "metadata": {
    "colab": {
      "name": "sentiment-analysis.ipynb",
      "provenance": [],
      "authorship_tag": "ABX9TyMYD5WPkxbQcHlncJvd0lbN",
      "include_colab_link": true
    },
    "kernelspec": {
      "name": "python3",
      "display_name": "Python 3"
    }
  },
  "cells": [
    {
      "cell_type": "markdown",
      "metadata": {
        "id": "view-in-github",
        "colab_type": "text"
      },
      "source": [
        "<a href=\"https://colab.research.google.com/github/NM1729/sentiment-analysis/blob/main/sentiment_analysis.ipynb\" target=\"_parent\"><img src=\"https://colab.research.google.com/assets/colab-badge.svg\" alt=\"Open In Colab\"/></a>"
      ]
    },
    {
      "cell_type": "code",
      "metadata": {
        "colab": {
          "base_uri": "https://localhost:8080/"
        },
        "id": "LZ5irvGBGQWn",
        "outputId": "7ad167a5-fde2-4452-e6d7-437dc841d5d0"
      },
      "source": [
        "import nltk\r\n",
        "nltk.download('twitter_samples')\r\n",
        "nltk.download('punkt')"
      ],
      "execution_count": 4,
      "outputs": [
        {
          "output_type": "stream",
          "text": [
            "[nltk_data] Downloading package twitter_samples to /root/nltk_data...\n",
            "[nltk_data]   Package twitter_samples is already up-to-date!\n",
            "[nltk_data] Downloading package punkt to /root/nltk_data...\n",
            "[nltk_data]   Unzipping tokenizers/punkt.zip.\n"
          ],
          "name": "stdout"
        },
        {
          "output_type": "execute_result",
          "data": {
            "text/plain": [
              "True"
            ]
          },
          "metadata": {
            "tags": []
          },
          "execution_count": 4
        }
      ]
    },
    {
      "cell_type": "code",
      "metadata": {
        "id": "LGv3yWqGGY_6"
      },
      "source": [
        "from nltk.corpus import twitter_samples\r\n",
        "from nltk.tag import pos_tag\r\n",
        "from nltk.stem.wordnet import WordNetLemmatizer\r\n",
        "\r\n",
        "positive_tweets = twitter_samples.strings('positive_tweets.json')\r\n",
        "negative_tweets = twitter_samples.strings('negative_tweets.json')\r\n",
        "text = twitter_samples.strings('tweets.20150430-223406.json')\r\n",
        "tweet_tokens = twitter_samples.tokenized('positive_tweets.json')"
      ],
      "execution_count": 20,
      "outputs": []
    },
    {
      "cell_type": "code",
      "metadata": {
        "colab": {
          "base_uri": "https://localhost:8080/"
        },
        "id": "QepWRHTOHbOF",
        "outputId": "4b8d21c6-923c-4e4e-e216-b7770ac60970"
      },
      "source": [
        "nltk.download('wordnet')\r\n",
        "nltk.download('averaged_perceptron_tagger')\r\n",
        "nltk.download('stopwords')"
      ],
      "execution_count": 28,
      "outputs": [
        {
          "output_type": "stream",
          "text": [
            "[nltk_data] Downloading package wordnet to /root/nltk_data...\n",
            "[nltk_data]   Package wordnet is already up-to-date!\n",
            "[nltk_data] Downloading package averaged_perceptron_tagger to\n",
            "[nltk_data]     /root/nltk_data...\n",
            "[nltk_data]   Package averaged_perceptron_tagger is already up-to-\n",
            "[nltk_data]       date!\n",
            "[nltk_data] Downloading package stopwords to /root/nltk_data...\n",
            "[nltk_data]   Unzipping corpora/stopwords.zip.\n"
          ],
          "name": "stdout"
        },
        {
          "output_type": "execute_result",
          "data": {
            "text/plain": [
              "True"
            ]
          },
          "metadata": {
            "tags": []
          },
          "execution_count": 28
        }
      ]
    },
    {
      "cell_type": "code",
      "metadata": {
        "colab": {
          "base_uri": "https://localhost:8080/"
        },
        "id": "HvaSvENsIwIa",
        "outputId": "bc340751-070a-4021-b1a8-9e97ddda96a7"
      },
      "source": [
        "print(pos_tag(tweet_tokens[0]))"
      ],
      "execution_count": 22,
      "outputs": [
        {
          "output_type": "stream",
          "text": [
            "[('#FollowFriday', 'JJ'), ('@France_Inte', 'NNP'), ('@PKuchly57', 'NNP'), ('@Milipol_Paris', 'NNP'), ('for', 'IN'), ('being', 'VBG'), ('top', 'JJ'), ('engaged', 'VBN'), ('members', 'NNS'), ('in', 'IN'), ('my', 'PRP$'), ('community', 'NN'), ('this', 'DT'), ('week', 'NN'), (':)', 'NN')]\n"
          ],
          "name": "stdout"
        }
      ]
    },
    {
      "cell_type": "code",
      "metadata": {
        "colab": {
          "base_uri": "https://localhost:8080/"
        },
        "id": "QrhbBHZ0JG3e",
        "outputId": "8e8c0d63-9a30-47f4-8c3b-982b6e1ef9f2"
      },
      "source": [
        "def lemma_sentence(tokens):\r\n",
        "    lemmatizer = WordNetLemmatizer()\r\n",
        "    lemmatized_sentence = []\r\n",
        "\r\n",
        "    for word, tag in pos_tag(tokens):\r\n",
        "        if tag.startswith('NN'):\r\n",
        "            pos = 'n'\r\n",
        "        elif tag.startswith('VB'):\r\n",
        "            pos = 'v'\r\n",
        "        else:\r\n",
        "            pos = 'a'\r\n",
        "        lemmatized_sentence.append(lemmatizer.lemmatize(word, pos))\r\n",
        "    return lemmatized_sentence\r\n",
        "\r\n",
        "print(lemma_sentence(tweet_tokens[0]))"
      ],
      "execution_count": 26,
      "outputs": [
        {
          "output_type": "stream",
          "text": [
            "['#FollowFriday', '@France_Inte', '@PKuchly57', '@Milipol_Paris', 'for', 'be', 'top', 'engage', 'member', 'in', 'my', 'community', 'this', 'week', ':)']\n"
          ],
          "name": "stdout"
        }
      ]
    },
    {
      "cell_type": "code",
      "metadata": {
        "id": "K6KQdtOmKbGD"
      },
      "source": [
        "import re, string"
      ],
      "execution_count": 25,
      "outputs": []
    },
    {
      "cell_type": "code",
      "metadata": {
        "id": "v4sSJYYkK3lo"
      },
      "source": [
        "def remove_noise(tweet_tokens, stop_words=()):\r\n",
        "\r\n",
        "    cleaned_tokens = []\r\n",
        "\r\n",
        "    for token, tag in pos_tag(tweet_tokens):\r\n",
        "        token = re.sub('http[s]?://(?:[a-zA-Z]|[0-9]|[$-_@.&+#]|[!*\\(\\),]|'\\\r\n",
        "                       '(?:%[0-9a-fA-F][0-9a-fA-F]))+','', token)\r\n",
        "        token = re.sub(\"(@[A-Za-z0-9_]+)\",\"\", token)\r\n",
        "\r\n",
        "        if tag.startswith('NN'):\r\n",
        "            pos = 'n'\r\n",
        "        elif tag.startswith('VB'):\r\n",
        "            pos = 'v'\r\n",
        "        else:\r\n",
        "            pos = 'a'\r\n",
        "\r\n",
        "        lemmatizer = WordNetLemmatizer()\r\n",
        "        token = lemmatizer.lemmatize(token, pos)\r\n",
        "\r\n",
        "        if len(token) > 0 and token not in string.punctuation and token.lower() not in stop_words:\r\n",
        "            cleaned_tokens.append(token.lower())\r\n",
        "        \r\n",
        "    return cleaned_tokens"
      ],
      "execution_count": 27,
      "outputs": []
    },
    {
      "cell_type": "code",
      "metadata": {
        "id": "Ss1lTFIoL1PM"
      },
      "source": [
        "from nltk.corpus import stopwords\r\n",
        "stop_words = stopwords.words('english')\r\n",
        "\r\n",
        "positive_tweet_tokens = twitter_samples.tokenized('positive_tweets.json')\r\n",
        "negative_tweet_tokens = twitter_samples.tokenized('negative_tweets.json')\r\n",
        "\r\n",
        "positive_cleaned_tokens_list = []\r\n",
        "negative_cleaned_tokens_list = []\r\n",
        "\r\n",
        "for tokens in positive_tweet_tokens:\r\n",
        "    positive_cleaned_tokens_list.append(remove_noise(tokens, stop_words))\r\n",
        "\r\n",
        "for tokens in negative_tweet_tokens:\r\n",
        "    negative_cleaned_tokens_list.append(remove_noise(tokens, stop_words))"
      ],
      "execution_count": 32,
      "outputs": []
    },
    {
      "cell_type": "code",
      "metadata": {
        "id": "OwXjAL7EMIVC"
      },
      "source": [
        "def get_all_words(cleaned_tokens_list):\r\n",
        "    for tokens in cleaned_tokens_list:\r\n",
        "        for token in tokens:\r\n",
        "            yield token\r\n",
        "\r\n",
        "all_pos_words = get_all_words(positive_cleaned_tokens_list)"
      ],
      "execution_count": 35,
      "outputs": []
    },
    {
      "cell_type": "code",
      "metadata": {
        "colab": {
          "base_uri": "https://localhost:8080/"
        },
        "id": "lgo3l45HMWVb",
        "outputId": "ed1bf45c-cc3a-4b0d-80fe-ffefe0724f02"
      },
      "source": [
        "from nltk import FreqDist\r\n",
        "\r\n",
        "freq_dist_pos = FreqDist(all_pos_words)\r\n",
        "print(freq_dist_pos.most_common(10))"
      ],
      "execution_count": 36,
      "outputs": [
        {
          "output_type": "stream",
          "text": [
            "[(':)', 3691), (':-)', 701), (':d', 658), ('thanks', 388), ('follow', 357), ('love', 333), ('...', 290), ('good', 283), ('get', 263), ('thank', 253)]\n"
          ],
          "name": "stdout"
        }
      ]
    },
    {
      "cell_type": "code",
      "metadata": {
        "id": "QMoGojakNFuq"
      },
      "source": [
        "def get_tweets_for_model(cleaned_tokens_list):\r\n",
        "    for tweet_tokens in cleaned_tokens_list:\r\n",
        "        yield dict([token, True] for token in tweet_tokens)\r\n",
        "\r\n",
        "positive_tokens_for_model = get_tweets_for_model(positive_cleaned_tokens_list)\r\n",
        "negative_tokens_for_model = get_tweets_for_model(negative_cleaned_tokens_list)"
      ],
      "execution_count": 37,
      "outputs": []
    },
    {
      "cell_type": "code",
      "metadata": {
        "id": "noMGUy8rNRtI"
      },
      "source": [
        "import random\r\n",
        "\r\n",
        "positive_dataset = [(tweet_dict, \"Positive\")\r\n",
        "                     for tweet_dict in positive_tokens_for_model]\r\n",
        "\r\n",
        "negative_dataset = [(tweet_dict, \"Negative\")\r\n",
        "                     for tweet_dict in negative_tokens_for_model]\r\n",
        "\r\n",
        "dataset = positive_dataset + negative_dataset\r\n",
        "\r\n",
        "random.shuffle(dataset)\r\n",
        "\r\n",
        "train_data = dataset[:7000]\r\n",
        "test_data = dataset[7000:]"
      ],
      "execution_count": 38,
      "outputs": []
    },
    {
      "cell_type": "code",
      "metadata": {
        "colab": {
          "base_uri": "https://localhost:8080/"
        },
        "id": "6-VJSmRFNaaa",
        "outputId": "1baf105b-52e7-4da2-872e-ee0262c851b0"
      },
      "source": [
        "from nltk import classify\r\n",
        "from nltk import NaiveBayesClassifier\r\n",
        "classifier = NaiveBayesClassifier.train(train_data)\r\n",
        "\r\n",
        "print(\"Accuracy is:\", classify.accuracy(classifier, test_data))\r\n",
        "\r\n",
        "print(classifier.show_most_informative_features(10))"
      ],
      "execution_count": 39,
      "outputs": [
        {
          "output_type": "stream",
          "text": [
            "Accuracy is: 0.9943333333333333\n",
            "Most Informative Features\n",
            "                     sad = True           Negati : Positi =     35.7 : 1.0\n",
            "                followed = True           Negati : Positi =     25.9 : 1.0\n",
            "               community = True           Positi : Negati =     16.9 : 1.0\n",
            "                    glad = True           Positi : Negati =     16.9 : 1.0\n",
            "                    luck = True           Positi : Negati =     15.6 : 1.0\n",
            "                 welcome = True           Positi : Negati =     14.9 : 1.0\n",
            "                    sick = True           Negati : Positi =     14.3 : 1.0\n",
            "                     via = True           Positi : Negati =     13.6 : 1.0\n",
            "                      aw = True           Negati : Positi =     13.1 : 1.0\n",
            "                     ugh = True           Negati : Positi =     11.8 : 1.0\n",
            "None\n"
          ],
          "name": "stdout"
        }
      ]
    },
    {
      "cell_type": "code",
      "metadata": {
        "colab": {
          "base_uri": "https://localhost:8080/"
        },
        "id": "3_8Kn4pDNmli",
        "outputId": "dafd8e4b-434b-4130-be48-492a0c349c8c"
      },
      "source": [
        "from nltk.tokenize import word_tokenize\r\n",
        "\r\n",
        "custom_tweet = \"Well done, @Jeremy256!!! You're the man!\"\r\n",
        "\r\n",
        "custom_tokens = remove_noise(word_tokenize(custom_tweet))\r\n",
        "\r\n",
        "print(classifier.classify(dict([token, True] for token in custom_tokens)))"
      ],
      "execution_count": 43,
      "outputs": [
        {
          "output_type": "stream",
          "text": [
            "Positive\n"
          ],
          "name": "stdout"
        }
      ]
    },
    {
      "cell_type": "code",
      "metadata": {
        "id": "jRLNl5GlN3LZ"
      },
      "source": [
        ""
      ],
      "execution_count": null,
      "outputs": []
    }
  ]
}